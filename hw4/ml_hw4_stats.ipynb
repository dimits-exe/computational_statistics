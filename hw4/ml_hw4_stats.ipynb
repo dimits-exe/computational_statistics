{
 "cells": [
  {
   "cell_type": "markdown",
   "id": "0d8aade8-eee2-4301-91de-0e43f229e293",
   "metadata": {},
   "source": [
    "# Machine Learning and Computational Statistics - 3rd Assignment\n",
    "\n",
    "### Dimitris Tsirmpas"
   ]
  },
  {
   "cell_type": "markdown",
   "id": "b65a80e2-4d52-4da2-84dd-aee226acf861",
   "metadata": {},
   "source": [
    "## Multiple Choise Questions\n",
    "\n",
    "| Exercise | Answers |\n",
    "| --- | --- | \n",
    "| 1 | 1, 4 | \n",
    "| 2 | 2, 4| \n",
    "| 3 | 2, 3 |\n",
    "| 4 | 2 |\n",
    "| 5 | 1, 2, 4 |\n",
    "| 6 | 1,4 |\n",
    "| 7 | 2 |\n",
    "| 8 | 1 |\n",
    "| 9 | 1,3 |\n",
    "| 10 | 1, 4 |\n",
    "| 11 | 2, 3, 4 |\n",
    "| 12 | 1, 3 |\n",
    "| 13 | a-1, b-2, c-2 |\n",
    "| 14 | 1, 4 |\n",
    "| 15 | 4 |\n",
    "| 16 | 1, 2 |\n",
    "| 17 | 1 |"
   ]
  },
  {
   "cell_type": "markdown",
   "id": "30f019de-af7e-4d28-b828-3f4505634634",
   "metadata": {},
   "source": [
    "Note: This notebook uses progress bars, which are supplied by the `tqdm` library."
   ]
  },
  {
   "cell_type": "code",
   "execution_count": 1,
   "id": "4d3bc517-09c0-4f8b-9490-fc79c664905c",
   "metadata": {
    "tags": []
   },
   "outputs": [],
   "source": [
    "%%capture\n",
    "!pip install tqdm"
   ]
  },
  {
   "cell_type": "markdown",
   "id": "013c838f-fdfc-4c3e-aabf-46a2b687adc6",
   "metadata": {},
   "source": [
    "## Importing the Code\n",
    "\n",
    "Before we start, we should import the code from the previous assignments in order to not repeat the usual regression algorithms. This time, we will define a custom \"LS_Model\" class which will hopefully make the syntax and debugging a little easier. \n",
    "\n",
    "Some of the functions we defined in the previous assignements are imported as methods, while others (such as the MSE) remain as free functions since they may be used outside of the scope of a LS model. "
   ]
  },
  {
   "cell_type": "code",
   "execution_count": 2,
   "id": "883e28be-345d-45be-9249-78cf5256cbf2",
   "metadata": {},
   "outputs": [],
   "source": [
    "import numpy as np\n",
    "\n",
    "\n",
    "def mse(y_hat: np.array, y: np.array) -> float:\n",
    "    \"\"\"\n",
    "    Calculate the Mean Squared Error between the predictions and actual values.\n",
    "    :param y_hat: A Nx1 prediction vector\n",
    "    :param y: A Nx1 vector containing the actual values\n",
    "    :return: the MSE error\n",
    "    \"\"\"\n",
    "    return np.mean((y - y_hat)**2)\n",
    "\n",
    "\n",
    "def polynomial(x: np.ndarray, degree: int) -> np.ndarray:\n",
    "    \"\"\"\n",
    "    Raise a vector to a N-degree polynomial.\n",
    "    :param x: a Lx1 sized vector\n",
    "    :param degree: the degree of the polynomial\n",
    "    :return: a Lx(degree+1) vector representing the Nth degree polynomial of the original vector \n",
    "    \"\"\"\n",
    "    x8 = np.column_stack([np.power(x, i) for i in range(degree + 1)])\n",
    "    \n",
    "    # discard useless 3rd dimension if exists\n",
    "    if x8.ndim == 3: \n",
    "        return x8[:,:,0]\n",
    "    else:\n",
    "        return x8"
   ]
  },
  {
   "cell_type": "code",
   "execution_count": 3,
   "id": "c4ac4e48-e261-49dc-bfad-feed78f14cf2",
   "metadata": {},
   "outputs": [],
   "source": [
    "class LS_Model:\n",
    "    \"\"\"\n",
    "    A class representing a linear regression model, with a X data matrix and a y value vector.\n",
    "    \"\"\"\n",
    "    \n",
    "    # Pretend there is a return type hint here\n",
    "    # if we declare it we somehow reach a cyclical dependency, where the type hint is declared before the class\n",
    "    @classmethod\n",
    "    def from_normal_dataset(cls, mean: np.ndarray, cov: np.ndarray, size: int):\n",
    "        \"\"\"\n",
    "        Generate a new LS_Model based on a datast following the Normal distribution with a set mean and covariance matrix.\n",
    "        :param mean: a Mx1 vector of the r.v's mean (where M the number of features)\n",
    "        :param cov: a MxM covariance matrix (where M the number of features)\n",
    "        :param size: the size of the LS_Model\n",
    "        :return: a LS_Model with Nx1 explanatory variable vector and a Nx(M+1) data vector, where the first row is filled with ones\n",
    "        \"\"\"\n",
    "        data = np.random.multivariate_normal(mean=mean, cov=cov, size=size) \n",
    "        return LS_Model(y=data[:,0],  x=data[:,1], include_coef_col=True) \n",
    "    \n",
    "    def __init__(this, y: np.ndarray, x: np.ndarray, ridge: float = 0, include_coef_col: bool = False):\n",
    "        \"\"\"\n",
    "        Construct a new model with the associated X data matrix and y values.\n",
    "        :param x: a NxM data matrix\n",
    "        :param y: a Nx1 value vector\n",
    "        :param ridge: the ridge regression term, 0 for ordinary least squares (default 0)\n",
    "        :param include_coef_col: whether to add an all-ones column in the X matrix to support estimation\n",
    "        of the intercept, default False\n",
    "        \"\"\"\n",
    "        if include_coef_col:\n",
    "            this.x = np.column_stack([np.ones_like(x), x])\n",
    "        else:\n",
    "            this.x = x\n",
    "        \n",
    "        this.ridge = ridge\n",
    "        this.y = y\n",
    "        \n",
    "    def fit(this, lamda: float = 0) -> np.array:\n",
    "        \"\"\"\n",
    "        Perform linear regression using the sum of error squares criterion.\n",
    "        :return: the theta vector of size Mx1 containing the model parameters\n",
    "        \"\"\"\n",
    "        X = this.x\n",
    "        y = this.y\n",
    "\n",
    "        if this.ridge < 0:\n",
    "            raise ValueError(\"Lamda values must be equal to, or larger than 0.\")\n",
    "\n",
    "        # if X is a vector and not matrix, turn it into a matrix as\n",
    "        # vector @ vector => float, but matrix @ vector => vector\n",
    "        if X.ndim < 2:\n",
    "            X = X.reshape(-1, 1)\n",
    "\n",
    "        inverted = X.T@X + this.ridge * np.identity(X.shape[1]-1) # ridge regression term\n",
    "        if np.linalg.det(inverted) == 0:\n",
    "            print(\"Warning: X^TX not invertible, solution is not unique\")\n",
    "\n",
    "        # mutiply the inverse of X^T with X^T and y\n",
    "        # the result is our theta vector\n",
    "        return np.linalg.inv(inverted) @ X.T @ y \n",
    "    \n",
    "    def estimate(this, theta: np.ndarray=None) -> np.ndarray:\n",
    "        \"\"\"\n",
    "        Get the LS estimation for the LS_Model's X matrix based on generated weights.\n",
    "        :param theta: a Mx1 vector of the LS model's parameters (where M the number of features)\n",
    "        None to calculate the parameters automatically. Default: None.\n",
    "        :return: a Nx1 vector containing the y_hat estimations\n",
    "        \"\"\"\n",
    "        if theta is None:\n",
    "            theta = this.fit()\n",
    "        return this.x @ theta\n",
    "    \n",
    "    def mse(this, estimates: np.ndarray=None) -> float:\n",
    "        \"\"\"\n",
    "        Get the MSE for the current model. This is a wrapper method for the MSE free function.\n",
    "        :param estimates: a Nx1 vector containing the y_hat estimations, \n",
    "        None to calculate estimations automatically. Default: None.\n",
    "        :return: the MSE of the model\n",
    "        \"\"\"\n",
    "        if estimates is None:\n",
    "            estimates = this.estimate(this.fit())\n",
    "        return mse(this.y, estimates)"
   ]
  },
  {
   "cell_type": "markdown",
   "id": "63bbb689-9cce-46d6-b3a4-7587475a7a75",
   "metadata": {},
   "source": [
    "## Exercise 18"
   ]
  },
  {
   "cell_type": "markdown",
   "id": "b366126c-d7cb-4b4a-8785-c55ac0bc9f36",
   "metadata": {},
   "source": [
    "We import the data as usual and place them in a LS_Model."
   ]
  },
  {
   "cell_type": "code",
   "execution_count": 4,
   "id": "497efb7d-79c2-42d5-b8b0-bd64c454620c",
   "metadata": {
    "tags": []
   },
   "outputs": [],
   "source": [
    "import scipy.io as sio\n",
    "\n",
    "Training_Set = sio.loadmat('Training_Set.mat')\n",
    "X = Training_Set['X']\n",
    "y = Training_Set['y']\n",
    "\n",
    "model = LS_Model(x=X, y=y)"
   ]
  },
  {
   "cell_type": "markdown",
   "id": "44b3fbcf-3ea7-41da-9155-a397bbe08ca5",
   "metadata": {},
   "source": [
    "We will now fit 6 different LASSO estimators fitted on the same LS_Model, but with different $\\lambda$ values in order to observe the effect of regularization on the generated functions.\n",
    "\n",
    "The first (blue) model will be a regular LS estimator with no regularization, while the following ones will be of size $[10^{-6},10^{-5}, \\cdots, 10^{0}]$. "
   ]
  },
  {
   "cell_type": "code",
   "execution_count": 5,
   "id": "1fbd780c-9124-43a6-b636-87d2a4dccef1",
   "metadata": {
    "tags": []
   },
   "outputs": [
    {
     "data": {
      "image/png": "[encoded data removed]",
      "text/plain": [
       "<Figure size 640x480 with 1 Axes>"
      ]
     },
     "metadata": {},
     "output_type": "display_data"
    }
   ],
   "source": [
    "from sklearn.linear_model import Lasso as lasso\n",
    "import matplotlib.pyplot as plt\n",
    "import warnings\n",
    "\n",
    "\n",
    "param_ls = []\n",
    "lamda_ls = np.insert(np.logspace(-6, -1, 6), 0, 0)\n",
    "plot_x = np.linspace(0, 1, 100).reshape(-1,1)\n",
    "\n",
    "for lamda in lamda_ls:\n",
    "    # Fitting a regularization model with no or very small regularization\n",
    "    # understandably raises warnings from the library.\n",
    "    # We are suppressing them here, as our models are purely for demonstrative purposes\n",
    "    with warnings.catch_warnings():\n",
    "        warnings.simplefilter(\"ignore\")\n",
    "        \n",
    "        fitted = lasso(alpha=lamda).fit(polynomial(model.x, 8), model.y)\n",
    "        param_ls.append(np.insert(fitted.coef_[1:], 0, fitted.intercept_))\n",
    "        plt.plot(plot_x, fitted.predict(polynomial(plot_x, 8)), label=f\"Lambda={lamda:.2e}\")\n",
    "    \n",
    "plt.scatter(X, y, color=\"red\", marker=\"*\", label=\"Original data set\")\n",
    "plt.legend()\n",
    "plt.show()"
   ]
  },
  {
   "cell_type": "markdown",
   "id": "3af3ec11-11f7-48b7-a61d-17b6cff36f47",
   "metadata": {},
   "source": [
    "We can have a look at the generated parameters by placing them on a table as such:"
   ]
  },
  {
   "cell_type": "code",
   "execution_count": 6,
   "id": "dbc1b76a-f03f-421b-b997-ce9f6efaf2f2",
   "metadata": {
    "tags": []
   },
   "outputs": [
    {
     "data": {
      "text/html": [
       "<div>\n",
       "<style scoped>\n",
       "    .dataframe tbody tr th:only-of-type {\n",
       "        vertical-align: middle;\n",
       "    }\n",
       "\n",
       "    .dataframe tbody tr th {\n",
       "        vertical-align: top;\n",
       "    }\n",
       "\n",
       "    .dataframe thead th {\n",
       "        text-align: right;\n",
       "    }\n",
       "</style>\n",
       "<table border=\"1\" class=\"dataframe\">\n",
       "  <thead>\n",
       "    <tr style=\"text-align: right;\">\n",
       "      <th></th>\n",
       "      <th>Intercept</th>\n",
       "      <th>Theta(x^1)</th>\n",
       "      <th>Theta(x^2)</th>\n",
       "      <th>Theta(x^3)</th>\n",
       "      <th>Theta(x^4)</th>\n",
       "      <th>Theta(x^5)</th>\n",
       "      <th>Theta(x^6)</th>\n",
       "      <th>Theta(x^7)</th>\n",
       "      <th>Theta(x^8)</th>\n",
       "    </tr>\n",
       "    <tr>\n",
       "      <th>Lambda</th>\n",
       "      <th></th>\n",
       "      <th></th>\n",
       "      <th></th>\n",
       "      <th></th>\n",
       "      <th></th>\n",
       "      <th></th>\n",
       "      <th></th>\n",
       "      <th></th>\n",
       "      <th></th>\n",
       "    </tr>\n",
       "  </thead>\n",
       "  <tbody>\n",
       "    <tr>\n",
       "      <th>0.000000</th>\n",
       "      <td>2.002167</td>\n",
       "      <td>0.169956</td>\n",
       "      <td>0.140984</td>\n",
       "      <td>-0.076245</td>\n",
       "      <td>-0.129368</td>\n",
       "      <td>-0.097494</td>\n",
       "      <td>-0.017292</td>\n",
       "      <td>0.081611</td>\n",
       "      <td>0.180434</td>\n",
       "    </tr>\n",
       "    <tr>\n",
       "      <th>0.000001</th>\n",
       "      <td>2.001990</td>\n",
       "      <td>0.175475</td>\n",
       "      <td>0.119992</td>\n",
       "      <td>-0.061093</td>\n",
       "      <td>-0.124545</td>\n",
       "      <td>-0.084868</td>\n",
       "      <td>-0.010771</td>\n",
       "      <td>0.038251</td>\n",
       "      <td>0.198280</td>\n",
       "    </tr>\n",
       "    <tr>\n",
       "      <th>0.000010</th>\n",
       "      <td>2.000818</td>\n",
       "      <td>0.210555</td>\n",
       "      <td>0.000000</td>\n",
       "      <td>-0.005462</td>\n",
       "      <td>-0.083032</td>\n",
       "      <td>-0.000000</td>\n",
       "      <td>-0.000000</td>\n",
       "      <td>0.000000</td>\n",
       "      <td>0.105798</td>\n",
       "    </tr>\n",
       "    <tr>\n",
       "      <th>0.000100</th>\n",
       "      <td>2.004412</td>\n",
       "      <td>0.187742</td>\n",
       "      <td>0.000000</td>\n",
       "      <td>0.000000</td>\n",
       "      <td>0.000000</td>\n",
       "      <td>0.000000</td>\n",
       "      <td>0.000000</td>\n",
       "      <td>0.000000</td>\n",
       "      <td>0.000000</td>\n",
       "    </tr>\n",
       "    <tr>\n",
       "      <th>0.001000</th>\n",
       "      <td>2.009321</td>\n",
       "      <td>0.176833</td>\n",
       "      <td>0.000000</td>\n",
       "      <td>0.000000</td>\n",
       "      <td>0.000000</td>\n",
       "      <td>0.000000</td>\n",
       "      <td>0.000000</td>\n",
       "      <td>0.000000</td>\n",
       "      <td>0.000000</td>\n",
       "    </tr>\n",
       "    <tr>\n",
       "      <th>0.010000</th>\n",
       "      <td>2.058412</td>\n",
       "      <td>0.067742</td>\n",
       "      <td>0.000000</td>\n",
       "      <td>0.000000</td>\n",
       "      <td>0.000000</td>\n",
       "      <td>0.000000</td>\n",
       "      <td>0.000000</td>\n",
       "      <td>0.000000</td>\n",
       "      <td>0.000000</td>\n",
       "    </tr>\n",
       "    <tr>\n",
       "      <th>0.100000</th>\n",
       "      <td>2.088896</td>\n",
       "      <td>0.000000</td>\n",
       "      <td>0.000000</td>\n",
       "      <td>0.000000</td>\n",
       "      <td>0.000000</td>\n",
       "      <td>0.000000</td>\n",
       "      <td>0.000000</td>\n",
       "      <td>0.000000</td>\n",
       "      <td>0.000000</td>\n",
       "    </tr>\n",
       "  </tbody>\n",
       "</table>\n",
       "</div>"
      ],
      "text/plain": [
       "          Intercept  Theta(x^1)  Theta(x^2)  Theta(x^3)  Theta(x^4)  \\\n",
       "Lambda                                                                \n",
       "0.000000   2.002167    0.169956    0.140984   -0.076245   -0.129368   \n",
       "0.000001   2.001990    0.175475    0.119992   -0.061093   -0.124545   \n",
       "0.000010   2.000818    0.210555    0.000000   -0.005462   -0.083032   \n",
       "0.000100   2.004412    0.187742    0.000000    0.000000    0.000000   \n",
       "0.001000   2.009321    0.176833    0.000000    0.000000    0.000000   \n",
       "0.010000   2.058412    0.067742    0.000000    0.000000    0.000000   \n",
       "0.100000   2.088896    0.000000    0.000000    0.000000    0.000000   \n",
       "\n",
       "          Theta(x^5)  Theta(x^6)  Theta(x^7)  Theta(x^8)  \n",
       "Lambda                                                    \n",
       "0.000000   -0.097494   -0.017292    0.081611    0.180434  \n",
       "0.000001   -0.084868   -0.010771    0.038251    0.198280  \n",
       "0.000010   -0.000000   -0.000000    0.000000    0.105798  \n",
       "0.000100    0.000000    0.000000    0.000000    0.000000  \n",
       "0.001000    0.000000    0.000000    0.000000    0.000000  \n",
       "0.010000    0.000000    0.000000    0.000000    0.000000  \n",
       "0.100000    0.000000    0.000000    0.000000    0.000000  "
      ]
     },
     "execution_count": 6,
     "metadata": {},
     "output_type": "execute_result"
    }
   ],
   "source": [
    "import pandas as pd\n",
    "\n",
    "\n",
    "param_matrix = np.array(param_ls)\n",
    "column_names = [\"Lambda\", \"Intercept\"] + [f\"Theta(x^{i})\" for i in range(1, param_matrix.shape[1]) ] \n",
    "\n",
    "df = pd.concat([pd.DataFrame(lamda_ls), pd.DataFrame(param_matrix)], axis=1)\n",
    "df.columns = column_names\n",
    "df = df.set_index(\"Lambda\")\n",
    "df"
   ]
  },
  {
   "cell_type": "markdown",
   "id": "f3ab492d-c493-435e-9dd7-15accfb2f090",
   "metadata": {},
   "source": [
    "b) We can clearly see that the LASSO model attempts to completely erase parameters much more aggresively than our Ridge regressor. \n",
    "\n",
    "As we can see from the table above, with $\\lambda = 4.0e-4$, all but the 1st term of the polynomial function have been converted to 0, effectively turning our model from an 8th degree polynomial, to a linear one with $y= 0.184x + 2.006$. Compare this with the Ridge estimator in the previous assignment, where for the same LS_Model, even a lambda value of $6.58e-03$ resulted in very steep curves.\n",
    "\n",
    "\n",
    "We can also see this effect clearly in the graph above, where starting from the green line (which has a miniscule $x^8$ term) our model predicts almost, or entirely linearly, as opposed to the curves of the models we didn't regularize as much. This is a very strong indication our source data do indeed follow a linear distribution, information which would be vital to us in model selection.\n",
    "\n",
    "However, we must also acknowledge that the strength of the regularization rapidly pushes the model to the simple \"mean model\", aka a model with only the data points' mean as parameter, even by using very small $\\lambda$ values. The LASSO estimator is much more restrictive than its Ridge cousin. "
   ]
  },
  {
   "cell_type": "markdown",
   "id": "c067a65b-1093-4eb9-be00-c41f4bb03bb5",
   "metadata": {},
   "source": [
    "## Exercise 19"
   ]
  },
  {
   "cell_type": "markdown",
   "id": "b727de97-0f43-4ec5-8df8-75a4e89309a0",
   "metadata": {},
   "source": [
    "We will import the setup function from the previous assignement:"
   ]
  },
  {
   "cell_type": "code",
   "execution_count": 7,
   "id": "4612b583-07cc-4e72-bcf7-1fb8a3863d1c",
   "metadata": {
    "tags": []
   },
   "outputs": [
    {
     "data": {
      "text/plain": [
       "((30, 2), (30,))"
      ]
     },
     "execution_count": 7,
     "metadata": {},
     "output_type": "execute_result"
    }
   ],
   "source": [
    "import math \n",
    "\n",
    "\n",
    "def generate_dataset(size: int, theta_0: float, ridge: float=0) -> tuple[np.ndarray, np.ndarray]:\n",
    "    \"\"\"\n",
    "    Create a y=theta_0*x (x in unif [0, 100]) dataset of N elements, with Gaussian noise, adding ones to the x matrix as \n",
    "    to support finding coefficients under the linear assumption.\n",
    "    @param size: the N elements of the dataset\n",
    "    @param theta_0: the linear coefficient\n",
    "    return: a tuple containing a N-sized vector (y) and a Nx2 matrix (x)\n",
    "    \"\"\"\n",
    "    unif_low = 0\n",
    "    unif_up = 100 \n",
    "    noise_mean = 0\n",
    "    noise_var = 64\n",
    "        \n",
    "    x_orig = np.random.uniform(unif_low, unif_up, size)\n",
    "    y = theta_0 *x_orig\n",
    "    # insert noise into our \"perfect\" dataset \n",
    "    # the \"normal\" method uses stddev instead of variance\n",
    "    x =  x_orig + np.random.normal(noise_mean , math.sqrt(noise_var), size) \n",
    "    return LS_Model(y=y, x=x, ridge=ridge, include_coef_col=True)\n",
    "\n",
    "\n",
    "# we use a python list instead of a NxM matrix of datasets for the sake of code clarity\n",
    "models = [generate_dataset(30, 2) for i in range(50)]\n",
    "models[0].x.shape, models[0].y.shape"
   ]
  },
  {
   "cell_type": "markdown",
   "id": "9009618c-6f97-4b59-828b-34bc89692e7d",
   "metadata": {},
   "source": [
    "We will estimate the mean MSE between the all 30 LS_Models, once for linear models, and another for Ridge where $\\lambda \\in [0, 0.1, 0.2, \\cdots, 10000]$. \n",
    "\n",
    "Note that since we are calculating $30 \\cdot 50 \\cdot 10000 \\cdot 10$ datapoints, this will take *some* time."
   ]
  },
  {
   "cell_type": "code",
   "execution_count": 8,
   "id": "473c50f9-914a-4ffc-94dd-24292e0d7d4b",
   "metadata": {
    "tags": []
   },
   "outputs": [
    {
     "name": "stderr",
     "output_type": "stream",
     "text": [
      "100%|█████████████████████████████████████████████████████████████████████████| 100000/100000 [11:16<00:00, 147.79it/s]\n"
     ]
    }
   ],
   "source": [
    "from tqdm import tqdm # used for progress bars\n",
    "    \n",
    "for model in models:\n",
    "    model.ridge = 0\n",
    "ols_mse = np.mean([model.mse() for model in models])\n",
    "\n",
    "ridge_mse_ls = []\n",
    "lamda_ls = np.arange(0, 1e+4, step=0.1)\n",
    "\n",
    "for lamda in tqdm(lamda_ls):\n",
    "    for model in models:\n",
    "        model.ridge = lamda\n",
    "    ridge_mse_ls.append(np.mean([model.mse() for model in models]))"
   ]
  },
  {
   "cell_type": "markdown",
   "id": "db24c391-8e0b-4705-90e8-f2f0bc6d6e7f",
   "metadata": {},
   "source": [
    "Now we can quickly look at how many $\\lambda$ values exhibited lower MSE than the OLS model: "
   ]
  },
  {
   "cell_type": "code",
   "execution_count": 9,
   "id": "47c929d4-eb0e-4977-abb5-d539c41d10ca",
   "metadata": {},
   "outputs": [
    {
     "data": {
      "text/plain": [
       "0"
      ]
     },
     "execution_count": 9,
     "metadata": {},
     "output_type": "execute_result"
    }
   ],
   "source": [
    "np.where(np.array(ridge_mse_ls) < ols_mse, 1, 0).sum()"
   ]
  },
  {
   "cell_type": "markdown",
   "id": "584838ee-1540-478d-b6ae-71c3286c2bcc",
   "metadata": {},
   "source": [
    "... Which means none at all.\n",
    "\n",
    "We can also plot the MSE for each $\\lambda$ value as follows:"
   ]
  },
  {
   "cell_type": "code",
   "execution_count": 10,
   "id": "db0b7a05-24a4-48cf-8bff-446ee6225893",
   "metadata": {
    "tags": []
   },
   "outputs": [
    {
     "data": {
      "image/png": "[encoded data removed]",
      "text/plain": [
       "<Figure size 640x480 with 1 Axes>"
      ]
     },
     "metadata": {},
     "output_type": "display_data"
    }
   ],
   "source": [
    "plt.plot(lamda_ls, np.full_like(lamda_ls, ols_mse), label=\"Ordinary Least Squares\")\n",
    "plt.plot(lamda_ls, ridge_mse_ls, label=\"Ridge Estimator\")\n",
    "plt.title(\"Ridge Regression lambda Impact on MSE\")\n",
    "plt.xlabel(\"Theta\")\n",
    "plt.ylabel(\"Mean Squared Error\")\n",
    "plt.legend()\n",
    "plt.show()"
   ]
  },
  {
   "cell_type": "markdown",
   "id": "5e47a82a-de90-4b85-88d4-df677ab5a6a7",
   "metadata": {},
   "source": [
    "b) We can see that any regularization results in a worse MSE for our estimator. This seems logical since, as we established in our previous assignment, the models are extremely sensitive to the regularization parameter, meaning that any value higher than 0.001 may result in all our parameters being pushed to 0."
   ]
  },
  {
   "cell_type": "markdown",
   "id": "46861323-1d51-45fc-8989-5670adc03600",
   "metadata": {},
   "source": [
    "## Exercise 20\n",
    "\n",
    "a) $(E_D[f(x;D)- E[y|x]])^2 $, representing the optimal MSE of the estimator, becomes 0 if the estimator can perfectly predict all original data points. This is possible by correctly guessing the general generator distribution and with an infinite dataset ($D: N \\rightarrow \\infty$).\n",
    "\n",
    "b) This cannot be achieved in practice since any dataset will have some noise, which incurs a minimum variance penalty of at least $\\sigma_n^2$ to any estimator. The variance caused by the noise can only converge to 0 in the case of inifite data points ($D: N \\rightarrow \\infty$), which is obviously impossible in the real world. "
   ]
  },
  {
   "cell_type": "markdown",
   "id": "afc348a0-8387-44a0-b5b9-dd7d40d0a16c",
   "metadata": {},
   "source": [
    "## Exercise 21"
   ]
  },
  {
   "cell_type": "markdown",
   "id": "4c23bc0f-a68e-49b2-95a7-a247863e2ab7",
   "metadata": {},
   "source": [
    "a) We can prove $p(x,y)$ is a pdf by proving that \n",
    "$$\n",
    "\\int_0^1\\int_{x^3}^1 p(x,y) dydx = 1\n",
    "$$\n",
    "\n",
    "$$\n",
    "\\int_0^1\\int_{x^3}^1 p(x,y) dydx = \n",
    "\\int_0^1\\int_{x^3}^1 \\frac{4}{3} dydx =\n",
    "\\int_0^1 \\frac{4}{3}(1-x^3) dx =\n",
    "\\int_0^1 \\frac{4}{3} - \\frac{4}{3} x^3 dx =\n",
    "\\frac{4}{3} - \\int_0^1 \\frac{4}{3} x^3 dx = \n",
    "\\frac{4}{3} - \\frac{1}{4} \\frac{4}{3} [1-0]^4 =\n",
    "\\frac{4}{3} - \\frac{1}{3} = 1\n",
    "$$"
   ]
  },
  {
   "cell_type": "markdown",
   "id": "cc377033-1213-43be-b5fd-5a2f85c74cf3",
   "metadata": {},
   "source": [
    "b) \n",
    "$$\n",
    "p_X(x) = \\int^1_{x^3} p(x,y) dy = \n",
    "\\int^1_{x^3} \\frac{4}{3} dy = \n",
    "\\frac{4}{3} - \\frac{4}{3} x^3, x \\in[0,1]\n",
    "$$"
   ]
  },
  {
   "cell_type": "markdown",
   "id": "2339fcd4-f69e-45c8-8b0a-badb133a66cb",
   "metadata": {},
   "source": [
    "c) \n",
    "$$\n",
    "p(y|x) = \\frac{p(x,y)}{p_X(x)} = \n",
    "\\frac{\\frac{4}{3}}{\\frac{4}{3} - \\frac{4}{3} x^3} = \n",
    "\\frac{1}{1 - x^3}\n",
    "$$"
   ]
  },
  {
   "cell_type": "markdown",
   "id": "6289cdb8-19b1-4aff-926d-8261d4bd9e58",
   "metadata": {},
   "source": [
    "d) \n",
    "$$\n",
    "E[y|x] =\n",
    "\\int^1_{x^3} y p(y|x) dy =\n",
    "\\int^1_{x^3} y \\frac{1}{1 - x^3} dy =\n",
    "\\frac{1}{1 - x^3} \\int^1_{x^3} y dy = \n",
    "\\frac{1}{1 - x^3} [\\frac{y^2}{2}]^{1}_{x^3} =\n",
    "\\frac{1-x^6}{2(1-x^3)}\n",
    "$$"
   ]
  },
  {
   "cell_type": "markdown",
   "id": "b949d678-78d4-47a8-b61d-1e4e2e36bd77",
   "metadata": {},
   "source": [
    "## Exercise 22"
   ]
  },
  {
   "cell_type": "markdown",
   "id": "9c2d9e3f-801b-401c-a584-a17f01db7858",
   "metadata": {},
   "source": [
    "a) \n",
    "For any multivariate joint distribution, we can find the optimal MSE estimate with the following formula:\n",
    "\n",
    "$$\n",
    "E[y|x] =  \\mu_y + \\alpha \\frac{\\sigma_y}{\\sigma_x} (x-\\mu_x) \n",
    "$$\n",
    "\n",
    "For the multivariate, jointly distributed normal distribution, it holds that:\n",
    "\n",
    "$$\\alpha = \\frac{\\sigma_{xy}}{\\sigma_x \\sigma_y}$$ therefore:\n",
    "$$E[y|x] = \\mu_y + \\frac{\\sigma_{xy}}{\\sigma_x^2} (x-\\mu_x)$$\n",
    "\n",
    "and in our case it would be computed like so:\n",
    "$$\n",
    "E[y|x] = 1 + \\frac{3}{5} (x-1) = \\frac{3}{5}x + \\frac{2}{5} = y\n",
    "$$"
   ]
  },
  {
   "cell_type": "code",
   "execution_count": 11,
   "id": "24e8f739-165d-431a-b78d-d2526d36df3c",
   "metadata": {
    "tags": []
   },
   "outputs": [
    {
     "data": {
      "text/plain": [
       "(array([ 1.35448175, -1.61525305,  0.7462538 ]),\n",
       " array([[ 1.        ,  0.95798465],\n",
       "        [ 1.        , -1.75670469],\n",
       "        [ 1.        ,  1.81664757]]))"
      ]
     },
     "execution_count": 11,
     "metadata": {},
     "output_type": "execute_result"
    }
   ],
   "source": [
    "mean = np.array([1, 1])\n",
    "cov = np.array([[4, 3],[3, 5]])\n",
    "\n",
    "# 100 LS_Models of 50 elements each (y,x)\n",
    "models_50 = [LS_Model.from_normal_dataset(mean=mean, cov=cov, size=50) for i in range(100)]\n",
    "\n",
    "models_50[0].y[:3], models_50[0].x[:3]"
   ]
  },
  {
   "cell_type": "code",
   "execution_count": 12,
   "id": "2513d4a2-3503-4c24-865b-4dc9ba2021cb",
   "metadata": {
    "tags": []
   },
   "outputs": [
    {
     "data": {
      "image/png": "[encoded data removed]",
      "text/plain": [
       "<Figure size 640x480 with 1 Axes>"
      ]
     },
     "metadata": {},
     "output_type": "display_data"
    }
   ],
   "source": [
    "def plot_estimates(model_ls: list[LS_Model]) -> None:   \n",
    "    # plot estimates\n",
    "    for d in model_ls:\n",
    "        plt.plot(d.x, d.estimate(), color=\"blue\")\n",
    "        \n",
    "    # plot true line\n",
    "    x_sample = np.linspace(-10, 10)\n",
    "    y_true = x_sample * (3/5) + 2/5\n",
    "    plt.plot(x_sample, y_true, color=\"green\", linewidth=2.5)\n",
    "    \n",
    "    plt.title(f\"Multiple Estimators w/ {d.x.shape[0]}-Length LS_Models\")\n",
    "    plt.show()\n",
    "\n",
    "    \n",
    "plot_estimates(models_50)"
   ]
  },
  {
   "cell_type": "code",
   "execution_count": 13,
   "id": "45107a63-0d2b-46d3-b793-5e560b6e839f",
   "metadata": {
    "tags": []
   },
   "outputs": [
    {
     "data": {
      "image/png": "[encoded data removed]",
      "text/plain": [
       "<Figure size 640x480 with 1 Axes>"
      ]
     },
     "metadata": {},
     "output_type": "display_data"
    }
   ],
   "source": [
    "models_5000 = [LS_Model.from_normal_dataset(mean=mean, cov=cov, size=5000) \n",
    "                 for i in range(100)]\n",
    "\n",
    "plot_estimates(models_5000)"
   ]
  },
  {
   "cell_type": "markdown",
   "id": "40c0e348-d109-4982-893c-93e7e15a8264",
   "metadata": {},
   "source": [
    "f) By comparing the graphs above, we notice that the estimations converge on the actual solution much more \"tightly\" in the case of the $5000$-length dataset. This makes sense, since the estimator for $N=5000$ has a much smaller variance than the corresponding $N=50$ estimator.  \n",
    "\n",
    "We can verify this conclusion by considering the MSE equations for the estimators,\n",
    "\n",
    "$E_D[f(x;D) - E_D[f(x;D)])^2]$, where $E_D[f(x;D)]$ converges on the true mean of $f$ with larger $N$ values."
   ]
  },
  {
   "cell_type": "markdown",
   "id": "4edf5a96-53b0-4edd-a429-4b59fb977af2",
   "metadata": {},
   "source": [
    "## Exercise 23"
   ]
  },
  {
   "cell_type": "code",
   "execution_count": 14,
   "id": "de99de7a-38bf-4a48-a970-ceed335c7c83",
   "metadata": {},
   "outputs": [],
   "source": [
    "model_test = LS_Model.from_normal_dataset(mean=mean, cov=cov, size=50)\n",
    "model_train = LS_Model.from_normal_dataset(mean=mean, cov=cov, size=100) "
   ]
  },
  {
   "cell_type": "code",
   "execution_count": 15,
   "id": "2ac1ba21-2341-4812-8d8b-5fbf42c7c234",
   "metadata": {
    "tags": []
   },
   "outputs": [
    {
     "name": "stdout",
     "output_type": "stream",
     "text": [
      "Linear estimate: y = 0.614406x + 0.549436\n"
     ]
    }
   ],
   "source": [
    "theta = model_train.fit()\n",
    "print(f\"Linear estimate: y = {theta[1]:2f}x + {theta[0]:2f}\")"
   ]
  },
  {
   "cell_type": "code",
   "execution_count": 16,
   "id": "459a6791-d33a-4cde-984b-3893d298cc1b",
   "metadata": {
    "tags": []
   },
   "outputs": [
    {
     "name": "stdout",
     "output_type": "stream",
     "text": [
      "Test data estimates:  [-0.61682048  2.86137394  2.7394747  -1.01781899 -0.14680296  1.96778021\n",
      "  1.41513721 -0.085058    2.15317448 -1.32561094  0.90389387  0.09092894\n",
      "  0.92522492 -0.46826441  1.20788585  0.72977013  0.23113429 -0.12670235\n",
      " -0.06673283 -1.12129073  1.12466541  0.08600249  2.5598006   1.65658425\n",
      "  2.10998615  1.83881403  2.92231245  3.0770914  -0.87859983  0.29681142\n",
      "  1.44165687  0.06929452  2.7124084   1.99205176  0.63108721  1.74563324\n",
      "  2.29995677  3.17276891 -0.57582299  0.81451764 -0.39909084  0.36588377\n",
      " -0.79769296  2.37141912  0.79910717  1.73401576  0.07431152  1.95877264\n",
      "  1.57722034  0.05719571]\n"
     ]
    }
   ],
   "source": [
    "estimates = model_test.x @ theta\n",
    "print(\"Test data estimates: \", estimates)"
   ]
  },
  {
   "cell_type": "markdown",
   "id": "5c3defbc-b4b2-4446-9cd5-9baf3fa3c6cb",
   "metadata": {
    "tags": []
   },
   "source": [
    "We can now test how well our new estimator fits unknown data by calculating the MSE and LogLikelihood for the data generated by `model_test`."
   ]
  },
  {
   "cell_type": "code",
   "execution_count": 17,
   "id": "48c171c3-1475-4b40-8ca8-87cde5a5b947",
   "metadata": {
    "tags": []
   },
   "outputs": [
    {
     "name": "stdout",
     "output_type": "stream",
     "text": [
      "LogLikelihood=-130.829753, MSE=2.2147634539004164\n"
     ]
    }
   ],
   "source": [
    "def logLikelihood(estimates: np.ndarray, y: np.ndarray) -> float:\n",
    "    \"\"\"\n",
    "    Get the log likelihood of a LS model.\n",
    "    :param estimates: the estimates\n",
    "    :param estimates: the true data points\n",
    "    :return: the loglikelihood of the model's estimates\n",
    "    \"\"\"\n",
    "    n = estimates.shape[0]\n",
    "    residuals = (estimates - y)**2 \n",
    "    return -(n * 1/2) * (1 + np.log(2 * np.pi)) - (n / 2) * np.log(residuals @ residuals / n)\n",
    "\n",
    "# model.y represents the true E[Y|x] distribution\n",
    "print(f\"LogLikelihood={logLikelihood(estimates, model_test.y):2f}, MSE={mse(estimates, model_test.y)}\")"
   ]
  },
  {
   "cell_type": "markdown",
   "id": "bc3cf1f5-7e3d-44db-8fdb-12588e020beb",
   "metadata": {},
   "source": [
    "## Exercise 24"
   ]
  },
  {
   "cell_type": "markdown",
   "id": "8b226e26-fc27-4468-8fa6-b28dc7b5c703",
   "metadata": {},
   "source": [
    "We will create two datasets based on the distribution $\\hat{y}(x) = E[y|x]$, as defined in Exercise 21, adding some normal noise:"
   ]
  },
  {
   "cell_type": "code",
   "execution_count": 18,
   "id": "67fb4bce-f82e-4c2f-959c-8d79b6dd0c20",
   "metadata": {},
   "outputs": [],
   "source": [
    "x = np.random.uniform(0,1, 100)\n",
    "y = (1-x**6) / 2*(1-x**3) + np.random.normal(0, 1)\n",
    "\n",
    "model = LS_Model(x=x, y=y, include_coef_col=True)"
   ]
  },
  {
   "cell_type": "markdown",
   "id": "714c319a-6283-4c24-b6a0-e6335c7dc7f2",
   "metadata": {},
   "source": [
    "And generate its MSE after applying the least squares method:"
   ]
  },
  {
   "cell_type": "code",
   "execution_count": 19,
   "id": "7341ed0e-3bb8-484e-8d3f-77da3975dc21",
   "metadata": {
    "tags": []
   },
   "outputs": [
    {
     "data": {
      "text/plain": [
       "0.003887460243768801"
      ]
     },
     "execution_count": 19,
     "metadata": {},
     "output_type": "execute_result"
    }
   ],
   "source": [
    "mse(model.estimate(), model.y)"
   ]
  },
  {
   "cell_type": "markdown",
   "id": "32396058-9b5b-41cf-837e-71ecf2323429",
   "metadata": {},
   "source": [
    "We will now manually compute the MSE estimate for a multivariate gaussian distribution as follows:"
   ]
  },
  {
   "cell_type": "code",
   "execution_count": 20,
   "id": "764d2ff7-5e59-491c-b3d3-541d29285d69",
   "metadata": {
    "tags": []
   },
   "outputs": [
    {
     "data": {
      "text/plain": [
       "array([[ 9.4540454 , -4.74188864],\n",
       "       [-4.74188864,  2.76714669]])"
      ]
     },
     "execution_count": 20,
     "metadata": {},
     "output_type": "execute_result"
    }
   ],
   "source": [
    "m = np.array([model.x[:,1].mean(), model.y.mean()])\n",
    "\n",
    "z = np.array([model.x[:,1], model.y]).T\n",
    "cov = (m-z).T@(m-z)\n",
    "cov"
   ]
  },
  {
   "cell_type": "code",
   "execution_count": 21,
   "id": "937fde24-d857-4847-90c2-3004b7d4290b",
   "metadata": {
    "tags": []
   },
   "outputs": [
    {
     "data": {
      "text/plain": [
       "0.14277719279525802"
      ]
     },
     "execution_count": 21,
     "metadata": {},
     "output_type": "execute_result"
    }
   ],
   "source": [
    "gauss_estimate = m[1] + cov[0,1] / cov[1,1] * (model.x[:,1] - m[0])\n",
    "mse(gauss_estimate, model.y)"
   ]
  },
  {
   "cell_type": "markdown",
   "id": "b4cef7ae-ade7-4561-8580-6ad59bd7f3ba",
   "metadata": {},
   "source": [
    "We can observe that the MSE between the Least Squares criterion in the dataset we created is far lower than the optimal MSE estimate derived from the multivariate Gaussian distribution. This happens because the gaussian assumption, which generates the estimations in the equation above, is violated. We can verify this by checking the original $p(y,x)$ pdf, from Exercise 21, which in turn generated the geneator function $E[y|x]$, which was used to generate our data.\n",
    "\n",
    "In practise however, the calculation of $E[y|x]$ is either impossible (since it too requires the exact generator distribution) or computationally intractable. Thus, we can not rely on the $E[y|x]$ MSE to judge our gaussian estimator."
   ]
  }
 ],
 "metadata": {
  "kernelspec": {
   "display_name": "Python 3 (ipykernel)",
   "language": "python",
   "name": "python3"
  },
  "language_info": {
   "codemirror_mode": {
    "name": "ipython",
    "version": 3
   },
   "file_extension": ".py",
   "mimetype": "text/x-python",
   "name": "python",
   "nbconvert_exporter": "python",
   "pygments_lexer": "ipython3",
   "version": "3.11.5"
  }
 },
 "nbformat": 4,
 "nbformat_minor": 5
}
